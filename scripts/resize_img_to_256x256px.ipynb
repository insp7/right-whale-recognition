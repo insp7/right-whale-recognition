{
 "cells": [
  {
   "cell_type": "code",
   "execution_count": 3,
   "metadata": {},
   "outputs": [],
   "source": [
    "import os\n",
    "import cv2\n",
    "\n",
    "def resize_images_in_folder(input_folder, output_folder):\n",
    "    # Create the output folder if it doesn't exist\n",
    "    if not os.path.exists(output_folder):\n",
    "        os.makedirs(output_folder)\n",
    "        \n",
    "    # Get a list of all files in the input folder\n",
    "    files = os.listdir(input_folder) \n",
    "    \n",
    "    # Iterate over each file\n",
    "    for file_name in files:\n",
    "        # Construct the full path to the file\n",
    "        input_file_path = os.path.join(input_folder, file_name)\n",
    "        \n",
    "        # Check if the file is an image\n",
    "        if input_file_path.endswith(('.jpg', '.jpeg', '.png', '.bmp', '.tif', '.tiff')):\n",
    "            # Read the image\n",
    "            img = cv2.imread(input_file_path)\n",
    "            \n",
    "            # Check if the image is loaded properly\n",
    "            if img is None:\n",
    "                print(f\"Error: Image {file_name} not loaded!\")\n",
    "                continue\n",
    "            \n",
    "            resized_img = cv2.resize(img, (256, 256)) # Resize the image to 256x256 pixels\n",
    "            output_file_path = os.path.join(output_folder, f\"{file_name}\") # Construct the output file path\n",
    "            cv2.imwrite(output_file_path, resized_img) # Save the resized image"
   ]
  },
  {
   "cell_type": "code",
   "execution_count": 6,
   "metadata": {},
   "outputs": [],
   "source": [
    "input_folder = \"../dataset/imgs\" # input folder containing images you want to resize\n",
    "output_folder = \"../dataset/imgs256x256\" # output folder where resized images will be stored\n",
    "resize_images_in_folder(input_folder, output_folder)"
   ]
  }
 ],
 "metadata": {
  "kernelspec": {
   "display_name": "Python 3",
   "language": "python",
   "name": "python3"
  },
  "language_info": {
   "codemirror_mode": {
    "name": "ipython",
    "version": 3
   },
   "file_extension": ".py",
   "mimetype": "text/x-python",
   "name": "python",
   "nbconvert_exporter": "python",
   "pygments_lexer": "ipython3",
   "version": "3.12.1"
  }
 },
 "nbformat": 4,
 "nbformat_minor": 2
}
