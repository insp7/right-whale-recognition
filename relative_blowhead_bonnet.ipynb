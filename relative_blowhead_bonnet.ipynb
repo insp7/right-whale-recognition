{
 "cells": [
  {
   "cell_type": "code",
   "execution_count": 1,
   "metadata": {},
   "outputs": [
    {
     "name": "stdout",
     "output_type": "stream",
     "text": [
      "Subtraction completed and saved to 'relative_bonnet_blowhead_coordinates.csv'\n"
     ]
    }
   ],
   "source": [
    "import csv\n",
    "\n",
    "# Read the first CSV file and store data in a dictionary\n",
    "data1 = {}\n",
    "with open('annotations/train_with_points.csv', newline='') as csvfile:\n",
    "    reader = csv.DictReader(csvfile)\n",
    "    for row in reader:\n",
    "        data1[row['Image']] = row\n",
    "\n",
    "# Read the second CSV file and perform subtraction where Image values match\n",
    "with open('annotations/whale_face_bounding_box_coordinates.csv', newline='') as csvfile:\n",
    "    reader = csv.DictReader(csvfile)\n",
    "    for row in reader:\n",
    "        image = row['Image']\n",
    "        if image in data1:\n",
    "            data1_row = data1[image]\n",
    "            # Perform subtraction\n",
    "            data1_row['bonnet_tip_x'] = float(data1_row['bonnet_tip_x']) - float(row['x'])\n",
    "            data1_row['bonnet_tip_y'] = float(data1_row['bonnet_tip_y']) - float(row['y'])\n",
    "            data1_row['blowhead_x'] = float(data1_row['blowhead_x']) - float(row['x'])\n",
    "            data1_row['blowhead_y'] = float(data1_row['blowhead_y']) - float(row['y'])\n",
    "\n",
    "# Write the updated data to a new CSV file\n",
    "with open('annotations/relative_bonnet_blowhead_coordinates.csv', 'w', newline='') as csvfile:\n",
    "    fieldnames = ['Image', 'whaleID', 'bonnet_tip_x', 'bonnet_tip_y', 'blowhead_x', 'blowhead_y']\n",
    "    writer = csv.DictWriter(csvfile, fieldnames=fieldnames)\n",
    "    writer.writeheader()\n",
    "    for image, row in data1.items():\n",
    "        writer.writerow(row)\n",
    "\n",
    "print(\"Subtraction completed and saved to 'relative_bonnet_blowhead_coordinates.csv'\")"
   ]
  }
 ],
 "metadata": {
  "kernelspec": {
   "display_name": "Python 3",
   "language": "python",
   "name": "python3"
  },
  "language_info": {
   "codemirror_mode": {
    "name": "ipython",
    "version": 3
   },
   "file_extension": ".py",
   "mimetype": "text/x-python",
   "name": "python",
   "nbconvert_exporter": "python",
   "pygments_lexer": "ipython3",
   "version": "3.12.1"
  }
 },
 "nbformat": 4,
 "nbformat_minor": 2
}
