{
 "cells": [
  {
   "cell_type": "code",
   "execution_count": 4,
   "metadata": {},
   "outputs": [],
   "source": [
    "import torch\n",
    "from datasets import Dataset"
   ]
  },
  {
   "cell_type": "code",
   "execution_count": 5,
   "metadata": {},
   "outputs": [],
   "source": [
    "ds = Dataset.load_from_disk(\"dataset/test_dataset_for_vit\")"
   ]
  },
  {
   "cell_type": "code",
   "execution_count": 6,
   "metadata": {},
   "outputs": [],
   "source": [
    "# Use a pipeline as a high-level helper\n",
    "from transformers import pipeline\n",
    "\n",
    "pipe = pipeline(\"image-classification\", model=\"vit-base-beans\", device=0, framework=\"pt\")"
   ]
  },
  {
   "cell_type": "code",
   "execution_count": 7,
   "metadata": {},
   "outputs": [],
   "source": [
    "result = pipe(ds['image'])"
   ]
  },
  {
   "cell_type": "code",
   "execution_count": 11,
   "metadata": {},
   "outputs": [
    {
     "data": {
      "text/plain": [
       "Dataset({\n",
       "    features: ['image', 'image_file_path'],\n",
       "    num_rows: 6925\n",
       "})"
      ]
     },
     "execution_count": 11,
     "metadata": {},
     "output_type": "execute_result"
    }
   ],
   "source": [
    "ds"
   ]
  },
  {
   "cell_type": "code",
   "execution_count": 12,
   "metadata": {},
   "outputs": [],
   "source": [
    "result_dict = {}\n",
    "for i, filename in enumerate(ds['image_file_path']):\n",
    "    result_dict[filename] = result[i][0]['label']"
   ]
  },
  {
   "cell_type": "code",
   "execution_count": 13,
   "metadata": {},
   "outputs": [],
   "source": [
    "import csv\n",
    "\n",
    "def generate_submission_csv(csv_file, image_whale_dict, updated_csv_file):\n",
    "    \"\"\"\n",
    "    Update a CSV file with image-to-whale mappings and write the updates to a new CSV file.\n",
    "\n",
    "    Args:\n",
    "    - csv_file (str): Path to the CSV file.\n",
    "    - image_whale_dict (dict): Dictionary containing image-to-whale mappings.\n",
    "    - updated_csv_file (str): Path to the new CSV file to write the updates.\n",
    "\n",
    "    Returns:\n",
    "    - None\n",
    "    \"\"\"\n",
    "    # Read the CSV file\n",
    "    with open(csv_file, 'r') as file:\n",
    "        reader = csv.reader(file)\n",
    "        rows = list(reader)\n",
    "\n",
    "    # Get the header row\n",
    "    header = rows[0]\n",
    "    \n",
    "    # Find the index of the columns with whale IDs\n",
    "    whale_id_indices = {header[i]: i for i in range(1, len(header))}\n",
    "\n",
    "    # For each row in the CSV file\n",
    "    for row in rows[1:]:\n",
    "        image_name = row[0]\n",
    "        if image_name in image_whale_dict:\n",
    "            # Get the whale ID from the dictionary\n",
    "            whale_id = image_whale_dict[image_name]\n",
    "\n",
    "            # Update the corresponding whale ID column to 1 and others to 0\n",
    "            for col_name, col_index in whale_id_indices.items():\n",
    "                if col_name == f'whale_{whale_id}':\n",
    "                    row[col_index] = '1'\n",
    "                else:\n",
    "                    row[col_index] = '0'\n",
    "\n",
    "    # Write the modified data to the new CSV file\n",
    "    with open(updated_csv_file, 'w', newline='') as file:\n",
    "        writer = csv.writer(file)\n",
    "        writer.writerows(rows)\n",
    "\n",
    "\n",
    "# CSV file path\n",
    "csv_file = 'dataset/sample_submission.csv'\n",
    "output_csv_file = 'submissions/test_vision_transformer.csv'\n",
    "\n",
    "# Dictionary mapping image file names to whale IDs\n",
    "image_whale_dict = result_dict\n",
    "\n",
    "# Call the function to update the CSV file\n",
    "generate_submission_csv(csv_file, image_whale_dict, output_csv_file)"
   ]
  }
 ],
 "metadata": {
  "kernelspec": {
   "display_name": "Python 3",
   "language": "python",
   "name": "python3"
  },
  "language_info": {
   "codemirror_mode": {
    "name": "ipython",
    "version": 3
   },
   "file_extension": ".py",
   "mimetype": "text/x-python",
   "name": "python",
   "nbconvert_exporter": "python",
   "pygments_lexer": "ipython3",
   "version": "3.12.1"
  }
 },
 "nbformat": 4,
 "nbformat_minor": 2
}
